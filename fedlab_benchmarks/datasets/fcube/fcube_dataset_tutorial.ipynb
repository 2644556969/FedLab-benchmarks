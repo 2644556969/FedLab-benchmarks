{
 "cells": [
  {
   "cell_type": "markdown",
   "metadata": {},
   "source": [
    "# Synthetic Dataset FCUBE"
   ]
  },
  {
   "cell_type": "markdown",
   "metadata": {},
   "source": [
    "FCUBE is a synthetic dataset for research in non-IID scenario with feature imbalance. This dataset is proposed in [Federated Learning on Non-IID Data Silos: An Experimental Study](https://arxiv.org/abs/2102.02079).\n",
    "\n",
    "Data points of FCUBE conain 3 features, that is, $\\mathcal{D}_{\\text{FCUBE}} = \\{ (\\mathbf{x}, y) \\}$, where each data point $\\mathbf{x} = (x_1, x_2, x_3)$, and label $y \\in \\{ 0, 1 \\}$. The distribution of data points is a cube in three dimentions, and if $x_1 > 0$, then $y = 0$, while $y=1$ when $x_1 < 0$. By default, we suggest 4000 data points for trainset, and 1000 for testset.\n",
    "\n",
    "For more details, please refer to Section (IV-B-b) of original paper."
   ]
  },
  {
   "cell_type": "code",
   "execution_count": 32,
   "metadata": {},
   "outputs": [],
   "source": [
    "from matplotlib import pyplot as plt\n",
    "import seaborn as sns\n",
    "import pandas as pd\n",
    "import numpy as np\n",
    "\n",
    "import sys\n",
    "sys.path.append('../../../')\n",
    "\n",
    "import fedlab_benchmarks\n",
    "from fedlab_benchmarks.datasets import FCUBE\n",
    "\n",
    "import torch\n",
    "from torch.utils.data import DataLoader"
   ]
  },
  {
   "cell_type": "markdown",
   "metadata": {},
   "source": [
    "Dataset `FCUBE` will generate local `.npy` file if `generate=True`. And it also accepts common arguments for dataset: `transform` and `target_transform` to transform the input and target respectively."
   ]
  },
  {
   "cell_type": "markdown",
   "metadata": {},
   "source": [
    "## Dataset generation"
   ]
  },
  {
   "cell_type": "code",
   "execution_count": 6,
   "metadata": {},
   "outputs": [
    {
     "name": "stdout",
     "output_type": "stream",
     "text": [
      "Generate FCUBE data now...\n",
      "../../../../data/FCUBE/fcube_train_X_100.npy generated.\n",
      "../../../../data/FCUBE/fcube_train_y_100.npy generated.\n"
     ]
    }
   ],
   "source": [
    "trainset = FCUBE('../../../../data/FCUBE/', train=True, generate=True,\n",
    "                 num_samples=4000)\n",
    "train_loader = DataLoader(trainset, batch_size=20, shuffle=True)"
   ]
  },
  {
   "cell_type": "code",
   "execution_count": 8,
   "metadata": {},
   "outputs": [
    {
     "name": "stdout",
     "output_type": "stream",
     "text": [
      "Generate FCUBE data now...\n",
      "../../../../data/FCUBE/fcube_test_X_1000.npy generated.\n",
      "../../../../data/FCUBE/fcube_test_y_1000.npy generated.\n"
     ]
    }
   ],
   "source": [
    "testset = FCUBE('../../../../data/FCUBE/', train=False, generate=True,\n",
    "                 num_samples=1000)\n",
    "test_loader = DataLoader(testset, batch_size=20, shuffle=False)"
   ]
  },
  {
   "cell_type": "markdown",
   "metadata": {},
   "source": [
    "## Visualization"
   ]
  },
  {
   "cell_type": "code",
   "execution_count": 14,
   "metadata": {},
   "outputs": [],
   "source": [
    "train_df = pd.DataFrame({'x1': trainset.data[:,0],\n",
    "                         'x2': trainset.data[:,1],\n",
    "                         'x3': trainset.data[:,2],\n",
    "                         'y': trainset.targets, \n",
    "                         'split': ['train'] * trainset.targets.shape[0]})\n",
    "test_df = pd.DataFrame({'x1': testset.data[:,0],\n",
    "                        'x2': testset.data[:,1],\n",
    "                        'x3': testset.data[:,2],\n",
    "                        'y': testset.targets, \n",
    "                        'split': ['test'] * testset.targets.shape[0]})\n",
    "fcube_df = pd.concat([train_df, test_df], ignore_index=True)"
   ]
  },
  {
   "cell_type": "markdown",
   "metadata": {},
   "source": [
    "Visualization of class distribution in trainset:"
   ]
  },
  {
   "cell_type": "code",
   "execution_count": 74,
   "metadata": {},
   "outputs": [
    {
     "data": {
      "image/png": "[encoded data removed]",
      "text/plain": [
       "<Figure size 345.6x288 with 2 Axes>"
      ]
     },
     "metadata": {},
     "output_type": "display_data"
    }
   ],
   "source": [
    "sns.set_style('darkgrid')\n",
    "sns.displot(fcube_df, x=\"y\", col=\"split\", bins=2, height=4, aspect=.6)\n",
    "plt.savefig(f\"../imgs/fcube_class_dist.png\", dpi=400, bbox_inches = 'tight')"
   ]
  },
  {
   "cell_type": "code",
   "execution_count": null,
   "metadata": {},
   "outputs": [],
   "source": []
  }
 ],
 "metadata": {
  "kernelspec": {
   "display_name": "Python [conda env:tf_torch]",
   "language": "python",
   "name": "conda-env-tf_torch-py"
  },
  "language_info": {
   "codemirror_mode": {
    "name": "ipython",
    "version": 3
   },
   "file_extension": ".py",
   "mimetype": "text/x-python",
   "name": "python",
   "nbconvert_exporter": "python",
   "pygments_lexer": "ipython3",
   "version": "3.8.10"
  },
  "toc": {
   "base_numbering": 1,
   "nav_menu": {},
   "number_sections": true,
   "sideBar": true,
   "skip_h1_title": false,
   "title_cell": "Table of Contents",
   "title_sidebar": "Contents",
   "toc_cell": false,
   "toc_position": {},
   "toc_section_display": true,
   "toc_window_display": true
  }
 },
 "nbformat": 4,
 "nbformat_minor": 4
}
